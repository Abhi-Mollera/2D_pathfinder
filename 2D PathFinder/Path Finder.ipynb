{
 "cells": [
  {
   "cell_type": "code",
   "execution_count": 1,
   "id": "e011b080",
   "metadata": {
    "scrolled": true
   },
   "outputs": [],
   "source": [
    "import imageio as imgio\n",
    "import numpy as np\n",
    "from collections import deque\n",
    "from PIL import Image, ImageDraw\n",
    "\n",
    "def BFSfinder(img_path,start_point,end_point):\n",
    "    img = imgio.imread(img_path, mode='L')\n",
    "    bw_img = np.where(img < 128,0,255).astype(np.uint8)          #converts to black and white\n",
    "    h, w = bw_img.shape\n",
    "    x1, y1 = start_point\n",
    "    x2, y2 = end_point\n",
    "    \n",
    "    if not(0<=x1<w and 0<=y1<h and bw_img[x1,y1]==0):            #checks if both points are on white pixels\n",
    "        return False\n",
    "    if not(0<=x2<w and 0<=y2<h and bw_img[x1,y1]==0):\n",
    "        return False\n",
    "    \n",
    "    bricks = set([x1, y1])\n",
    "    queue = deque([(x1, y1)])\n",
    "    #movement = [(1,0), (0,1), (-1,0),(0,-1),(1,1), (-1,1), (-1,1),(-1,-1)] #allows diagonal pathing\n",
    "    movement = [(1,0), (0,1), (-1,0),(0,-1)]                                #conventional 4 way pathing\n",
    "    tracker = {}\n",
    "    \n",
    "    while queue:                                                 #BFS search using a double ended queue\n",
    "        x, y = queue.popleft()\n",
    "        if (x,y)==(x2,y2):\n",
    "            path = [(x,y)]\n",
    "            while (x,y)!=(x1,y1):\n",
    "                x,y = tracker[(x,y)]\n",
    "                path.append((x,y))\n",
    "            path.reverse()\n",
    "            return True, path\n",
    "        \n",
    "        for mx, my in movement:\n",
    "            nx, ny = x+mx, y+my\n",
    "            if(0<=nx<w and 0<ny<h and bw_img[ny,nx]==0 and (nx,ny) not in bricks):\n",
    "                bricks.add((nx,ny))\n",
    "                tracker[(nx,ny)]=(x,y)\n",
    "                queue.append((nx,ny))\n",
    "                \n",
    "    return False, None\n",
    "\n",
    "def Img_output(img_path, path, color=(0,255,0)):                #Draw tool for visualization and double pathing\n",
    "    \n",
    "    img_color=imgio.imread(img_path)\n",
    "    if len(img_color.shape)==2:                                 #Converts to RGB\n",
    "        img_color = np.stack([img_color]*3, axis=-1)\n",
    "    \n",
    "    output = Image.fromarray(img_color)\n",
    "    draw = ImageDraw.Draw(output)\n",
    "    \n",
    "    for x, y in path:\n",
    "        draw.point((x,y), fill=color)\n",
    "    return output\n",
    "    "
   ]
  },
  {
   "cell_type": "code",
   "execution_count": null,
   "id": "43914a88",
   "metadata": {},
   "outputs": [],
   "source": [
    "#List of test points for the attached \"PF_Test.jpg\" file\n",
    "\n",
    "#Accesible Black points:  (0-60,0-60),(560-600,560-600),(500,350),(350,500)\n",
    "#Inaccesible Black point: (400,400)\n",
    "#White points:            (500,150),(150,450)"
   ]
  },
  {
   "cell_type": "code",
   "execution_count": 2,
   "id": "e9d5ab70",
   "metadata": {},
   "outputs": [],
   "source": [
    "#Intilization block - Please edit accordingly\n",
    "\n",
    "img_path = \"D:/2D PathFinder/PF_Test.jpg\"\n",
    "start_point1 = (1,1)\n",
    "end_point1 = (300,550)\n",
    "start_point2 = (100,400)\n",
    "end_point2 = (550,100)"
   ]
  },
  {
   "cell_type": "code",
   "execution_count": null,
   "id": "a435f6c2",
   "metadata": {
    "scrolled": false
   },
   "outputs": [],
   "source": [
    "#Single Pathfinder with Visualization\n",
    "\n",
    "result, path = BFSfinder(img_path,start_point1,end_point1)\n",
    "if (result):\n",
    "    print(\"Path exists.\")\n",
    "    print (\"Path taken:\", path)\n",
    "    output = Img_output(img_path, path)\n",
    "    output.show()\n",
    "else:\n",
    "    print(\"Path does not exist.\")"
   ]
  },
  {
   "cell_type": "code",
   "execution_count": null,
   "id": "359e66a3",
   "metadata": {},
   "outputs": [
    {
     "name": "stderr",
     "output_type": "stream",
     "text": [
      "C:\\Users\\91963\\AppData\\Local\\Temp\\ipykernel_14500\\3750276782.py:7: DeprecationWarning: Starting with ImageIO v3 the behavior of this function will switch to that of iio.v3.imread. To keep the current behavior (and make this warning disappear) use `import imageio.v2 as imageio` or call `imageio.v2.imread` directly.\n",
      "  img = imgio.imread(img_path, mode='L')\n",
      "C:\\Users\\91963\\AppData\\Local\\Temp\\ipykernel_14500\\3750276782.py:45: DeprecationWarning: Starting with ImageIO v3 the behavior of this function will switch to that of iio.v3.imread. To keep the current behavior (and make this warning disappear) use `import imageio.v2 as imageio` or call `imageio.v2.imread` directly.\n",
      "  img_color=imgio.imread(img_path)\n"
     ]
    },
    {
     "name": "stdout",
     "output_type": "stream",
     "text": [
      "Uninteresecting paths exist.\n"
     ]
    }
   ],
   "source": [
    "#Double Pathfinder with Visualization\n",
    "\n",
    "result1, path1 = BFSfinder(img_path,start_point1,end_point1)\n",
    "result2, path2 = BFSfinder(img_path,start_point2,end_point2)\n",
    "if (result1) and (result2):                                         #checks if paths exist for both sets\n",
    "    mod = Img_output(img_path, path1, color=(255,255,255))          #modifies image to flag pixels on the first path\n",
    "    mod.save(\"mod.jpg\")\n",
    "    final, path = BFSfinder(\"mod.jpg\",start_point2,end_point2)      #finds second path on mod image\n",
    "else:\n",
    "    print(\"Atleast 1 path does not exist\")\n",
    "    \n",
    "if (final):\n",
    "    print(\"Uninteresecting paths exist.\")\n",
    "    output = Img_output(img_path, path1, color=(0,255,0))\n",
    "    output.save(\"mod.jpg\")\n",
    "    output = Img_output(\"mod.jpg\", path, color=(0,0,255))\n",
    "    output.show()\n",
    "else:\n",
    "    print(\"Unintersecting paths do not exist\")\n",
    "\n",
    "    "
   ]
  }
 ],
 "metadata": {
  "kernelspec": {
   "display_name": "Python (GPU)",
   "language": "python",
   "name": "gpu1"
  },
  "language_info": {
   "codemirror_mode": {
    "name": "ipython",
    "version": 3
   },
   "file_extension": ".py",
   "mimetype": "text/x-python",
   "name": "python",
   "nbconvert_exporter": "python",
   "pygments_lexer": "ipython3",
   "version": "3.10.12"
  }
 },
 "nbformat": 4,
 "nbformat_minor": 5
}
